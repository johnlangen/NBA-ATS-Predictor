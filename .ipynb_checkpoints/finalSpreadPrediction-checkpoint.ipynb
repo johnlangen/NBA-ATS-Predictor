{
 "cells": [
  {
   "cell_type": "code",
   "execution_count": 5,
   "id": "71d75c51-4529-4ead-96d4-34a10e4dd1b7",
   "metadata": {},
   "outputs": [],
   "source": [
    "import pandas as pd\n",
    "import numpy as np\n",
    "import matplotlib.pyplot as plt\n",
    "\n",
    "%matplotlib inline\n",
    "\n",
    "from urllib.request import urlopen\n",
    "from bs4 import BeautifulSoup\n",
    "import re"
   ]
  },
  {
   "cell_type": "code",
   "execution_count": 6,
   "id": "b8a506f4-3379-482e-aedb-1ea3486478b1",
   "metadata": {},
   "outputs": [],
   "source": [
    "url=\"https://www.oddsshark.com/nba/computer-picks\"\n",
    "html=urlopen(url)"
   ]
  },
  {
   "cell_type": "code",
   "execution_count": 7,
   "id": "f9930b71-f8ba-4dba-991d-7f3484f17948",
   "metadata": {},
   "outputs": [],
   "source": [
    "soup = BeautifulSoup(html)"
   ]
  },
  {
   "cell_type": "code",
   "execution_count": 8,
   "id": "866472dc-e075-4ffa-b522-5af813df1234",
   "metadata": {},
   "outputs": [
    {
     "name": "stdout",
     "output_type": "stream",
     "text": [
      "[' Cavaliers/Wizards', ' Heat/Pacers', ' 76ers/Hawks', ' Timberwolves/Nets', ' Magic/Rockets', ' Pelicans/Mavericks', ' Celtics/Jazz', ' Suns/Warriors', ' Clippers/Lakers']\n"
     ]
    }
   ],
   "source": [
    "data = []\n",
    "\n",
    "containers = soup.find_all(\"div\", {\"class\":\"computer-picks-content has-cta many-picks\"})\n",
    "contain = containers[0]\n",
    "\n",
    "allrows = soup.find_all(\"div\", {\"class\":\"computer-picks-content has-cta many-picks\"})\n",
    "for row in allrows:\n",
    "    row_list = row.find_all(\"div\", {\"class\":\"pick-mobile-teams\"})\n",
    "    dataRow = []\n",
    "    for cell in row_list:\n",
    "        dataRow.append(cell.text)\n",
    "    data.append(dataRow)\n",
    "\n",
    "\n",
    "teamList = data[0]\n",
    "x = 0\n",
    "\n",
    "print(teamList)\n"
   ]
  },
  {
   "cell_type": "code",
   "execution_count": 9,
   "id": "9ec845eb-a4aa-4e48-8f33-f1f9e0fbb543",
   "metadata": {},
   "outputs": [
    {
     "name": "stdout",
     "output_type": "stream",
     "text": [
      "['+3', '+5.5', '+1.5', '+7.5', '+2.5', '+6.5', '+8', '+7', '+2']\n"
     ]
    }
   ],
   "source": [
    "data = []\n",
    "\n",
    "containers = soup.find_all(\"div\", {\"class\":\"computer-picks-content has-cta many-picks\"})\n",
    "contain = containers[0]\n",
    "\n",
    "allrows = soup.find_all(\"div\", {\"class\":\"computer-picks-content has-cta many-picks\"})\n",
    "for row in allrows:\n",
    "    row_list = row.find_all(\"span\", {\"class\":\"text-right\"})\n",
    "    dataRow = []\n",
    "    for cell in row_list:\n",
    "        dataRow.append(cell.text)\n",
    "    data.append(dataRow)\n",
    "    \n",
    "#add 12 starting from 1 to get the plus odds for the underdog(i   \n",
    "dataList = data[0]\n",
    "spreadList = []\n",
    "\n",
    "x = 1\n",
    "\n",
    "while x < len(dataList):\n",
    "    spreadList.append(dataList[x])\n",
    "    x = x + 12\n",
    "    \n",
    "print(spreadList)\n",
    "    "
   ]
  },
  {
   "cell_type": "code",
   "execution_count": 10,
   "id": "a058b4d9-24ae-4fed-966b-98896f33259c",
   "metadata": {},
   "outputs": [
    {
     "name": "stdout",
     "output_type": "stream",
     "text": [
      "[[' Cavaliers/Wizards', '+3'], [' Heat/Pacers', '+5.5'], [' 76ers/Hawks', '+1.5'], [' Timberwolves/Nets', '+7.5'], [' Magic/Rockets', '+2.5'], [' Pelicans/Mavericks', '+6.5'], [' Celtics/Jazz', '+8'], [' Suns/Warriors', '+7'], [' Clippers/Lakers', '+2']]\n"
     ]
    }
   ],
   "source": [
    "spreadTeamList = []\n",
    "x = 0\n",
    "\n",
    "while x < len(spreadList):\n",
    "    tempList = []\n",
    "    tempList.append(teamList[x])\n",
    "    tempList.append(spreadList[x])\n",
    "    spreadTeamList.append(tempList)\n",
    "    x = x + 1\n",
    "print(spreadTeamList)\n",
    "    "
   ]
  },
  {
   "cell_type": "code",
   "execution_count": null,
   "id": "3242b502-803e-4ee8-9e9d-ec17d3958fa8",
   "metadata": {},
   "outputs": [],
   "source": []
  }
 ],
 "metadata": {
  "kernelspec": {
   "display_name": "Python 3",
   "language": "python",
   "name": "python3"
  },
  "language_info": {
   "codemirror_mode": {
    "name": "ipython",
    "version": 3
   },
   "file_extension": ".py",
   "mimetype": "text/x-python",
   "name": "python",
   "nbconvert_exporter": "python",
   "pygments_lexer": "ipython3",
   "version": "3.8.8"
  }
 },
 "nbformat": 4,
 "nbformat_minor": 5
}
